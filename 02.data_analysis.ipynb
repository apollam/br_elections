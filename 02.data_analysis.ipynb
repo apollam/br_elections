{
 "cells": [
  {
   "cell_type": "code",
   "execution_count": 7,
   "metadata": {},
   "outputs": [],
   "source": [
    "import pandas as pd\n",
    "pd.set_option('display.float_format', lambda x: '%.2f' % x)\n",
    "pd.options.display.max_columns = 2000"
   ]
  },
  {
   "cell_type": "markdown",
   "metadata": {},
   "source": [
    "# Auxiliar functions"
   ]
  },
  {
   "cell_type": "code",
   "execution_count": 33,
   "metadata": {},
   "outputs": [],
   "source": [
    "import pandas as pd\n",
    "import numpy as np\n",
    "import warnings\n",
    "\n",
    "\n",
    "def value_counts(df, col, **kwargs):\n",
    "    \"\"\"Given a df and a column name return the `.value_counts()` for that column with\n",
    "    their percentage in the same row.\"\"\"\n",
    "\n",
    "    vc = df[col].value_counts(**kwargs)\n",
    "    vc1 = df[col].value_counts(1, **kwargs)\n",
    "\n",
    "    new_vc = pd.Series([], index=[], dtype=np.dtype(object))\n",
    "    for i, c in vc.iteritems():\n",
    "        new_vc = new_vc.append(pd.Series(str(vc[i]) + ' ({:.3f}%)'.format(vc1[i]), index=[i]))\n",
    "\n",
    "    return new_vc"
   ]
  },
  {
   "cell_type": "markdown",
   "metadata": {},
   "source": [
    "# Get data"
   ]
  },
  {
   "cell_type": "code",
   "execution_count": 74,
   "metadata": {},
   "outputs": [],
   "source": [
    "df = pd.read_csv('created_data/rj_dep_fed.csv', dtype={'despesa_maxima_campanha': float,\n",
    "                                                        'idade_data_posse': float,\n",
    "                                                        'numero_urna': int,\n",
    "                                                        'numero_sequencial': int,\n",
    "                                                        'numero_partido': int\n",
    "                                                        })"
   ]
  },
  {
   "cell_type": "code",
   "execution_count": 75,
   "metadata": {},
   "outputs": [
    {
     "data": {
      "text/html": [
       "<div>\n",
       "<style scoped>\n",
       "    .dataframe tbody tr th:only-of-type {\n",
       "        vertical-align: middle;\n",
       "    }\n",
       "\n",
       "    .dataframe tbody tr th {\n",
       "        vertical-align: top;\n",
       "    }\n",
       "\n",
       "    .dataframe thead th {\n",
       "        text-align: right;\n",
       "    }\n",
       "</style>\n",
       "<table border=\"1\" class=\"dataframe\">\n",
       "  <thead>\n",
       "    <tr style=\"text-align: right;\">\n",
       "      <th></th>\n",
       "      <th>ano_eleicao</th>\n",
       "      <th>nome</th>\n",
       "      <th>nome_urna</th>\n",
       "      <th>numero_sequencial</th>\n",
       "      <th>numero_urna</th>\n",
       "      <th>sigla_uf_nascimento</th>\n",
       "      <th>sigla_partido</th>\n",
       "      <th>tipo_agremiacao</th>\n",
       "      <th>descricao_cargo</th>\n",
       "      <th>despesa_maxima_campanha</th>\n",
       "      <th>idade_data_posse</th>\n",
       "      <th>descricao_cor_raca</th>\n",
       "      <th>descricao_estado_civil</th>\n",
       "      <th>descricao_genero</th>\n",
       "      <th>descricao_grau_instrucao</th>\n",
       "      <th>descricao_ocupacao</th>\n",
       "      <th>concorre_reeleicao</th>\n",
       "      <th>declara_bens</th>\n",
       "      <th>descricao_totalizacao_turno</th>\n",
       "    </tr>\n",
       "  </thead>\n",
       "  <tbody>\n",
       "    <tr>\n",
       "      <th>0</th>\n",
       "      <td>2018</td>\n",
       "      <td>LUIZ JEQUITINHANHO DOS SANTOS SILVA</td>\n",
       "      <td>LUIZ JEQUITINHANHO</td>\n",
       "      <td>1022053935</td>\n",
       "      <td>3615</td>\n",
       "      <td>RJ</td>\n",
       "      <td>PTC</td>\n",
       "      <td>COLIGACAO</td>\n",
       "      <td>DEPUTADO FEDERAL</td>\n",
       "      <td>0.00</td>\n",
       "      <td>65.00</td>\n",
       "      <td>PARDA</td>\n",
       "      <td>CASADO(A)</td>\n",
       "      <td>MASCULINO</td>\n",
       "      <td>SUPERIOR COMPLETO</td>\n",
       "      <td>SERVIDOR PUBLICO FEDERAL</td>\n",
       "      <td>N</td>\n",
       "      <td>S</td>\n",
       "      <td>NAO ELEITO</td>\n",
       "    </tr>\n",
       "    <tr>\n",
       "      <th>1</th>\n",
       "      <td>2018</td>\n",
       "      <td>ALEXANDRE DA SILVA MACABU</td>\n",
       "      <td>MACABU</td>\n",
       "      <td>1022046800</td>\n",
       "      <td>2036</td>\n",
       "      <td>RJ</td>\n",
       "      <td>PSC</td>\n",
       "      <td>COLIGACAO</td>\n",
       "      <td>DEPUTADO FEDERAL</td>\n",
       "      <td>0.00</td>\n",
       "      <td>46.00</td>\n",
       "      <td>PARDA</td>\n",
       "      <td>CASADO(A)</td>\n",
       "      <td>MASCULINO</td>\n",
       "      <td>ENSINO FUNDAMENTAL COMPLETO</td>\n",
       "      <td>FISCAL</td>\n",
       "      <td>N</td>\n",
       "      <td>S</td>\n",
       "      <td>SUPLENTE</td>\n",
       "    </tr>\n",
       "    <tr>\n",
       "      <th>2</th>\n",
       "      <td>2018</td>\n",
       "      <td>JORGE LUIS DE ALMEIDA</td>\n",
       "      <td>TECO HORTAS</td>\n",
       "      <td>1022046850</td>\n",
       "      <td>9012</td>\n",
       "      <td>RJ</td>\n",
       "      <td>PROS</td>\n",
       "      <td>COLIGACAO</td>\n",
       "      <td>DEPUTADO FEDERAL</td>\n",
       "      <td>0.00</td>\n",
       "      <td>50.00</td>\n",
       "      <td>PARDA</td>\n",
       "      <td>SOLTEIRO(A)</td>\n",
       "      <td>MASCULINO</td>\n",
       "      <td>ENSINO FUNDAMENTAL INCOMPLETO</td>\n",
       "      <td>OUTROS</td>\n",
       "      <td>N</td>\n",
       "      <td>N</td>\n",
       "      <td>NAO ELEITO</td>\n",
       "    </tr>\n",
       "    <tr>\n",
       "      <th>3</th>\n",
       "      <td>2018</td>\n",
       "      <td>ALTAISA DA SILVA TEIXEIRA</td>\n",
       "      <td>ALTAISA TEIXEIRA</td>\n",
       "      <td>1022053644</td>\n",
       "      <td>1708</td>\n",
       "      <td>RJ</td>\n",
       "      <td>PSL</td>\n",
       "      <td>PARTIDO ISOLADO</td>\n",
       "      <td>DEPUTADO FEDERAL</td>\n",
       "      <td>0.00</td>\n",
       "      <td>58.00</td>\n",
       "      <td>PARDA</td>\n",
       "      <td>CASADO(A)</td>\n",
       "      <td>FEMININO</td>\n",
       "      <td>ENSINO MEDIO COMPLETO</td>\n",
       "      <td>DONA DE CASA</td>\n",
       "      <td>N</td>\n",
       "      <td>N</td>\n",
       "      <td>SUPLENTE</td>\n",
       "    </tr>\n",
       "    <tr>\n",
       "      <th>4</th>\n",
       "      <td>2018</td>\n",
       "      <td>ANDREIA ADRIANA BENTO DA SILVA</td>\n",
       "      <td>ANDREIA HADASSA</td>\n",
       "      <td>1022045004</td>\n",
       "      <td>3114</td>\n",
       "      <td>RJ</td>\n",
       "      <td>PHS</td>\n",
       "      <td>PARTIDO ISOLADO</td>\n",
       "      <td>DEPUTADO FEDERAL</td>\n",
       "      <td>0.00</td>\n",
       "      <td>48.00</td>\n",
       "      <td>PARDA</td>\n",
       "      <td>SOLTEIRO(A)</td>\n",
       "      <td>FEMININO</td>\n",
       "      <td>LE E ESCREVE</td>\n",
       "      <td>OUTROS</td>\n",
       "      <td>N</td>\n",
       "      <td>N</td>\n",
       "      <td>NAO ELEITO</td>\n",
       "    </tr>\n",
       "  </tbody>\n",
       "</table>\n",
       "</div>"
      ],
      "text/plain": [
       "   ano_eleicao                                 nome           nome_urna  \\\n",
       "0         2018  LUIZ JEQUITINHANHO DOS SANTOS SILVA  LUIZ JEQUITINHANHO   \n",
       "1         2018            ALEXANDRE DA SILVA MACABU              MACABU   \n",
       "2         2018                JORGE LUIS DE ALMEIDA         TECO HORTAS   \n",
       "3         2018            ALTAISA DA SILVA TEIXEIRA    ALTAISA TEIXEIRA   \n",
       "4         2018       ANDREIA ADRIANA BENTO DA SILVA     ANDREIA HADASSA   \n",
       "\n",
       "   numero_sequencial  numero_urna sigla_uf_nascimento sigla_partido  \\\n",
       "0         1022053935         3615                  RJ           PTC   \n",
       "1         1022046800         2036                  RJ           PSC   \n",
       "2         1022046850         9012                  RJ          PROS   \n",
       "3         1022053644         1708                  RJ           PSL   \n",
       "4         1022045004         3114                  RJ           PHS   \n",
       "\n",
       "   tipo_agremiacao   descricao_cargo  despesa_maxima_campanha  \\\n",
       "0        COLIGACAO  DEPUTADO FEDERAL                     0.00   \n",
       "1        COLIGACAO  DEPUTADO FEDERAL                     0.00   \n",
       "2        COLIGACAO  DEPUTADO FEDERAL                     0.00   \n",
       "3  PARTIDO ISOLADO  DEPUTADO FEDERAL                     0.00   \n",
       "4  PARTIDO ISOLADO  DEPUTADO FEDERAL                     0.00   \n",
       "\n",
       "   idade_data_posse descricao_cor_raca descricao_estado_civil  \\\n",
       "0             65.00              PARDA              CASADO(A)   \n",
       "1             46.00              PARDA              CASADO(A)   \n",
       "2             50.00              PARDA            SOLTEIRO(A)   \n",
       "3             58.00              PARDA              CASADO(A)   \n",
       "4             48.00              PARDA            SOLTEIRO(A)   \n",
       "\n",
       "  descricao_genero       descricao_grau_instrucao        descricao_ocupacao  \\\n",
       "0        MASCULINO              SUPERIOR COMPLETO  SERVIDOR PUBLICO FEDERAL   \n",
       "1        MASCULINO    ENSINO FUNDAMENTAL COMPLETO                    FISCAL   \n",
       "2        MASCULINO  ENSINO FUNDAMENTAL INCOMPLETO                    OUTROS   \n",
       "3         FEMININO          ENSINO MEDIO COMPLETO              DONA DE CASA   \n",
       "4         FEMININO                   LE E ESCREVE                    OUTROS   \n",
       "\n",
       "  concorre_reeleicao declara_bens descricao_totalizacao_turno  \n",
       "0                  N            S                  NAO ELEITO  \n",
       "1                  N            S                    SUPLENTE  \n",
       "2                  N            N                  NAO ELEITO  \n",
       "3                  N            N                    SUPLENTE  \n",
       "4                  N            N                  NAO ELEITO  "
      ]
     },
     "execution_count": 75,
     "metadata": {},
     "output_type": "execute_result"
    }
   ],
   "source": [
    "df.head()"
   ]
  },
  {
   "cell_type": "code",
   "execution_count": 76,
   "metadata": {},
   "outputs": [
    {
     "data": {
      "text/plain": [
       "(6158, 19)"
      ]
     },
     "execution_count": 76,
     "metadata": {},
     "output_type": "execute_result"
    }
   ],
   "source": [
    "df.shape"
   ]
  },
  {
   "cell_type": "markdown",
   "metadata": {},
   "source": [
    "# Explore"
   ]
  },
  {
   "cell_type": "code",
   "execution_count": 77,
   "metadata": {},
   "outputs": [
    {
     "name": "stdout",
     "output_type": "stream",
     "text": [
      "<class 'pandas.core.frame.DataFrame'>\n",
      "RangeIndex: 6158 entries, 0 to 6157\n",
      "Data columns (total 19 columns):\n",
      " #   Column                       Non-Null Count  Dtype  \n",
      "---  ------                       --------------  -----  \n",
      " 0   ano_eleicao                  6158 non-null   int64  \n",
      " 1   nome                         6158 non-null   object \n",
      " 2   nome_urna                    6154 non-null   object \n",
      " 3   numero_sequencial            6158 non-null   int32  \n",
      " 4   numero_urna                  6158 non-null   int32  \n",
      " 5   sigla_uf_nascimento          6119 non-null   object \n",
      " 6   sigla_partido                6158 non-null   object \n",
      " 7   tipo_agremiacao              3389 non-null   object \n",
      " 8   descricao_cargo              6158 non-null   object \n",
      " 9   despesa_maxima_campanha      6158 non-null   float64\n",
      " 10  idade_data_posse             3389 non-null   float64\n",
      " 11  descricao_cor_raca           3389 non-null   object \n",
      " 12  descricao_estado_civil       6158 non-null   object \n",
      " 13  descricao_genero             6158 non-null   object \n",
      " 14  descricao_grau_instrucao     6158 non-null   object \n",
      " 15  descricao_ocupacao           6158 non-null   object \n",
      " 16  concorre_reeleicao           3389 non-null   object \n",
      " 17  declara_bens                 3389 non-null   object \n",
      " 18  descricao_totalizacao_turno  5749 non-null   object \n",
      "dtypes: float64(2), int32(2), int64(1), object(14)\n",
      "memory usage: 866.1+ KB\n"
     ]
    }
   ],
   "source": [
    "df.info()"
   ]
  },
  {
   "cell_type": "code",
   "execution_count": 78,
   "metadata": {},
   "outputs": [
    {
     "data": {
      "text/html": [
       "<div>\n",
       "<style scoped>\n",
       "    .dataframe tbody tr th:only-of-type {\n",
       "        vertical-align: middle;\n",
       "    }\n",
       "\n",
       "    .dataframe tbody tr th {\n",
       "        vertical-align: top;\n",
       "    }\n",
       "\n",
       "    .dataframe thead th {\n",
       "        text-align: right;\n",
       "    }\n",
       "</style>\n",
       "<table border=\"1\" class=\"dataframe\">\n",
       "  <thead>\n",
       "    <tr style=\"text-align: right;\">\n",
       "      <th></th>\n",
       "      <th>count</th>\n",
       "      <th>mean</th>\n",
       "      <th>std</th>\n",
       "      <th>min</th>\n",
       "      <th>25%</th>\n",
       "      <th>50%</th>\n",
       "      <th>75%</th>\n",
       "      <th>max</th>\n",
       "    </tr>\n",
       "  </thead>\n",
       "  <tbody>\n",
       "    <tr>\n",
       "      <th>ano_eleicao</th>\n",
       "      <td>6158.00</td>\n",
       "      <td>2011.54</td>\n",
       "      <td>6.57</td>\n",
       "      <td>1998.00</td>\n",
       "      <td>2006.00</td>\n",
       "      <td>2014.00</td>\n",
       "      <td>2018.00</td>\n",
       "      <td>2018.00</td>\n",
       "    </tr>\n",
       "    <tr>\n",
       "      <th>numero_sequencial</th>\n",
       "      <td>6158.00</td>\n",
       "      <td>716467236.08</td>\n",
       "      <td>467730745.36</td>\n",
       "      <td>-1.00</td>\n",
       "      <td>11587.25</td>\n",
       "      <td>1021441100.50</td>\n",
       "      <td>1022046803.75</td>\n",
       "      <td>1022069034.00</td>\n",
       "    </tr>\n",
       "    <tr>\n",
       "      <th>numero_urna</th>\n",
       "      <td>6158.00</td>\n",
       "      <td>3300.75</td>\n",
       "      <td>1871.04</td>\n",
       "      <td>1000.00</td>\n",
       "      <td>1741.75</td>\n",
       "      <td>2807.00</td>\n",
       "      <td>4490.75</td>\n",
       "      <td>9099.00</td>\n",
       "    </tr>\n",
       "    <tr>\n",
       "      <th>despesa_maxima_campanha</th>\n",
       "      <td>6158.00</td>\n",
       "      <td>1042301.26</td>\n",
       "      <td>1584612.04</td>\n",
       "      <td>-1.00</td>\n",
       "      <td>0.00</td>\n",
       "      <td>80000.00</td>\n",
       "      <td>1500000.00</td>\n",
       "      <td>9000000.00</td>\n",
       "    </tr>\n",
       "    <tr>\n",
       "      <th>idade_data_posse</th>\n",
       "      <td>3389.00</td>\n",
       "      <td>49.05</td>\n",
       "      <td>11.29</td>\n",
       "      <td>20.00</td>\n",
       "      <td>41.00</td>\n",
       "      <td>49.00</td>\n",
       "      <td>57.00</td>\n",
       "      <td>86.00</td>\n",
       "    </tr>\n",
       "  </tbody>\n",
       "</table>\n",
       "</div>"
      ],
      "text/plain": [
       "                          count         mean          std     min      25%  \\\n",
       "ano_eleicao             6158.00      2011.54         6.57 1998.00  2006.00   \n",
       "numero_sequencial       6158.00 716467236.08 467730745.36   -1.00 11587.25   \n",
       "numero_urna             6158.00      3300.75      1871.04 1000.00  1741.75   \n",
       "despesa_maxima_campanha 6158.00   1042301.26   1584612.04   -1.00     0.00   \n",
       "idade_data_posse        3389.00        49.05        11.29   20.00    41.00   \n",
       "\n",
       "                                  50%           75%           max  \n",
       "ano_eleicao                   2014.00       2018.00       2018.00  \n",
       "numero_sequencial       1021441100.50 1022046803.75 1022069034.00  \n",
       "numero_urna                   2807.00       4490.75       9099.00  \n",
       "despesa_maxima_campanha      80000.00    1500000.00    9000000.00  \n",
       "idade_data_posse                49.00         57.00         86.00  "
      ]
     },
     "execution_count": 78,
     "metadata": {},
     "output_type": "execute_result"
    }
   ],
   "source": [
    "df.describe().T"
   ]
  },
  {
   "cell_type": "code",
   "execution_count": 79,
   "metadata": {
    "collapsed": true,
    "jupyter": {
     "outputs_hidden": true
    }
   },
   "outputs": [
    {
     "name": "stdout",
     "output_type": "stream",
     "text": [
      "\n",
      "Column: nome\n",
      "JOSE GUILHERME DE MORAES NETO           7\n",
      "SIMAO SESSIM                            7\n",
      "LUIZ SERGIO NOBREGA DE OLIVEIRA         7\n",
      "FERNANDO LOPES DE ALMEIDA               7\n",
      "RODRIGO FELINTO IBARRA EPITACIO MAIA    7\n",
      "                                       ..\n",
      "MOIZES ROCHA                            1\n",
      "LUIZ CARLOS DE OLIVEIRA                 1\n",
      "JARBAS SEVERINO OLIVEIRA                1\n",
      "PAULO ALEXANDRE DA SILVA                1\n",
      "JORGE JOSE DA SILVA                     1\n",
      "Name: nome, Length: 4143, dtype: int64\n",
      "\n",
      "Column: nome_urna\n",
      "SIMAO SESSIM                7\n",
      "RODRIGO MAIA                7\n",
      "FERNANDO LOPES              7\n",
      "LUIZ SERGIO                 7\n",
      "LAURA CARNEIRO              7\n",
      "                           ..\n",
      "EDNA BARBOSA                1\n",
      "ZAFF                        1\n",
      "CIDA FIGUEIREDO             1\n",
      "ENFERMEIRA ROSA BALLESTE    1\n",
      "PROF AGNELO MAIA            1\n",
      "Name: nome_urna, Length: 4287, dtype: int64\n",
      "\n",
      "Column: sigla_uf_nascimento\n",
      "RJ    5076\n",
      "MG     195\n",
      "SP     101\n",
      "BA      91\n",
      "PE      84\n",
      "ES      68\n",
      "PB      68\n",
      "MA      63\n",
      "CE      55\n",
      "RS      52\n",
      "PA      44\n",
      "RN      38\n",
      "AL      34\n",
      "PR      29\n",
      "AM      20\n",
      "ZZ      17\n",
      "PI      16\n",
      "SE      15\n",
      "DF      15\n",
      "GO      12\n",
      "SC      11\n",
      "MS       7\n",
      "AC       5\n",
      "MT       2\n",
      "RO       1\n",
      "Name: sigla_uf_nascimento, dtype: int64\n",
      "\n",
      "Column: sigla_partido\n",
      "PDT              366\n",
      "PT DO B          280\n",
      "PSC              275\n",
      "PRB              272\n",
      "PHS              266\n",
      "PSL              254\n",
      "PRTB             251\n",
      "PRP              248\n",
      "PT               229\n",
      "PV               223\n",
      "PSB              212\n",
      "PSDB             210\n",
      "PSOL             207\n",
      "PR               203\n",
      "PSD              155\n",
      "PMDB             153\n",
      "PPS              148\n",
      "PTB              141\n",
      "PL               119\n",
      "PRONA            118\n",
      "PMN              117\n",
      "PSDC             116\n",
      "DEM              112\n",
      "PTC              109\n",
      "PPL              106\n",
      "AVANTE            98\n",
      "DC                98\n",
      "PP                98\n",
      "PFL               87\n",
      "PC DO B           86\n",
      "PPB               84\n",
      "PODE              82\n",
      "PMB               80\n",
      "PATRI             70\n",
      "SOLIDARIEDADE     68\n",
      "PTN               64\n",
      "PEN               57\n",
      "MDB               44\n",
      "SD                42\n",
      "PAN               38\n",
      "NOVO              38\n",
      "PROS              37\n",
      "REDE              30\n",
      "PSTU              21\n",
      "PCB               18\n",
      "PCO                8\n",
      "PGT                8\n",
      "PSN                5\n",
      "PRN                4\n",
      "PST                3\n",
      "Name: sigla_partido, dtype: int64\n",
      "\n",
      "Column: tipo_agremiacao\n",
      "COLIGACAO          2014\n",
      "PARTIDO ISOLADO    1375\n",
      "Name: tipo_agremiacao, dtype: int64\n",
      "\n",
      "Column: descricao_cargo\n",
      "DEPUTADO FEDERAL    6158\n",
      "Name: descricao_cargo, dtype: int64\n",
      "\n",
      "Column: descricao_cor_raca\n",
      "BRANCA      1810\n",
      "PARDA       1103\n",
      "PRETA        468\n",
      "AMARELA        5\n",
      "INDIGENA       3\n",
      "Name: descricao_cor_raca, dtype: int64\n",
      "\n",
      "Column: descricao_estado_civil\n",
      "CASADO(A)                    3495\n",
      "SOLTEIRO(A)                  1609\n",
      "DIVORCIADO(A)                 713\n",
      "SEPARADO(A) JUDICIALMENTE     163\n",
      "VIUVO(A)                      157\n",
      "NAO INFORMADO                  21\n",
      "Name: descricao_estado_civil, dtype: int64\n",
      "\n",
      "Column: descricao_genero\n",
      "MASCULINO        4573\n",
      "FEMININO         1580\n",
      "NAO INFORMADO       5\n",
      "Name: descricao_genero, dtype: int64\n",
      "\n",
      "Column: descricao_grau_instrucao\n",
      "SUPERIOR COMPLETO                2926\n",
      "ENSINO MEDIO COMPLETO            1557\n",
      "SUPERIOR INCOMPLETO               684\n",
      "ENSINO FUNDAMENTAL COMPLETO       335\n",
      "ENSINO MEDIO INCOMPLETO           160\n",
      "ENSINO FUNDAMENTAL INCOMPLETO     122\n",
      "MEDIO COMPLETO                    113\n",
      "2O GRAU COMPLETO                   69\n",
      "FUNDAMENTAL COMPLETO               44\n",
      "MEDIO INCOMPLETO                   25\n",
      "1O GRAU COMPLETO                   24\n",
      "LE E ESCREVE                       24\n",
      "2O GRAU INCOMPLETO                 22\n",
      "NAO INFORMADO                      21\n",
      "FUNDAMENTAL INCOMPLETO             16\n",
      "1O GRAU INCOMPLETO                 15\n",
      "ANALFABETO                          1\n",
      "Name: descricao_grau_instrucao, dtype: int64\n",
      "\n",
      "Column: descricao_ocupacao\n",
      "OUTROS                                               1064\n",
      "ADVOGADO                                              529\n",
      "EMPRESARIO                                            463\n",
      "COMERCIANTE                                           287\n",
      "MEDICO                                                181\n",
      "                                                     ... \n",
      "ENCANADOR, SOLDADOR, CHAPEADOR E CALDEIREIRO            1\n",
      "ASTRONOMO                                               1\n",
      "ARTESAO                                                 1\n",
      "OPERADOR DE APARELHOS DE PRODUCAO INDUSTRIAL            1\n",
      "TRABALHADOR EM ATIVIDADE DE PROCESSAMENTO QUIMICO       1\n",
      "Name: descricao_ocupacao, Length: 207, dtype: int64\n",
      "\n",
      "Column: concorre_reeleicao\n",
      "N    3294\n",
      "S      95\n",
      "Name: concorre_reeleicao, dtype: int64\n",
      "\n",
      "Column: declara_bens\n",
      "N    1746\n",
      "S    1643\n",
      "Name: declara_bens, dtype: int64\n",
      "\n",
      "Column: descricao_totalizacao_turno\n",
      "SUPLENTE                                          4243\n",
      "NAO ELEITO                                        1062\n",
      "ELEITO                                             162\n",
      "ELEITO POR QP                                      115\n",
      "REGISTRO NEGADO ANTES DA ELEICAO                   110\n",
      "ELEITO POR MEDIA                                    28\n",
      "MEDIA                                               17\n",
      "RENUNCIA/FALECIMENTO/CASSACAO ANTES DA ELEICAO       8\n",
      "INDEFERIDO COM RECURSO                               2\n",
      "RENUNCIA/FALECIMENTO/CASSACAO APOS A ELEICAO         1\n",
      "REGISTRO NEGADO APOS A ELEICAO                       1\n",
      "Name: descricao_totalizacao_turno, dtype: int64\n"
     ]
    }
   ],
   "source": [
    "for col in df.columns:\n",
    "    if df[col].dtype == object:\n",
    "        print('\\nColumn: ' + col)\n",
    "        print(df[col].value_counts())"
   ]
  },
  {
   "cell_type": "markdown",
   "metadata": {},
   "source": [
    "## Columns analysis"
   ]
  },
  {
   "cell_type": "code",
   "execution_count": 36,
   "metadata": {},
   "outputs": [
    {
     "data": {
      "text/plain": [
       "2018    2308 (0.375%)\n",
       "2014    1081 (0.176%)\n",
       "2010     929 (0.151%)\n",
       "2006     795 (0.129%)\n",
       "2002     602 (0.098%)\n",
       "1998     443 (0.072%)\n",
       "dtype: object"
      ]
     },
     "execution_count": 36,
     "metadata": {},
     "output_type": "execute_result"
    }
   ],
   "source": [
    "value_counts(df, 'ano_eleicao')"
   ]
  },
  {
   "cell_type": "markdown",
   "metadata": {},
   "source": [
    "The tendency is to have more candidates as the time passes."
   ]
  },
  {
   "cell_type": "markdown",
   "metadata": {},
   "source": [
    "Possible Transformations:\n",
    "- Since this dataset changes over time, treat this as a time series problem"
   ]
  },
  {
   "cell_type": "code",
   "execution_count": 35,
   "metadata": {},
   "outputs": [
    {
     "data": {
      "text/plain": [
       "RJ    5076 (0.830%)\n",
       "MG     195 (0.032%)\n",
       "SP     101 (0.017%)\n",
       "BA      91 (0.015%)\n",
       "PE      84 (0.014%)\n",
       "ES      68 (0.011%)\n",
       "PB      68 (0.011%)\n",
       "MA      63 (0.010%)\n",
       "CE      55 (0.009%)\n",
       "RS      52 (0.008%)\n",
       "PA      44 (0.007%)\n",
       "RN      38 (0.006%)\n",
       "AL      34 (0.006%)\n",
       "PR      29 (0.005%)\n",
       "AM      20 (0.003%)\n",
       "ZZ      17 (0.003%)\n",
       "PI      16 (0.003%)\n",
       "SE      15 (0.002%)\n",
       "DF      15 (0.002%)\n",
       "GO      12 (0.002%)\n",
       "SC      11 (0.002%)\n",
       "MS       7 (0.001%)\n",
       "AC       5 (0.001%)\n",
       "MT       2 (0.000%)\n",
       "RO       1 (0.000%)\n",
       "dtype: object"
      ]
     },
     "execution_count": 35,
     "metadata": {},
     "output_type": "execute_result"
    }
   ],
   "source": [
    "value_counts(df, 'sigla_uf_nascimento')"
   ]
  },
  {
   "cell_type": "markdown",
   "metadata": {},
   "source": [
    "There are more people from RJ (as expected) but there is also a good amount of people from other places."
   ]
  },
  {
   "cell_type": "markdown",
   "metadata": {},
   "source": [
    "Possible Transformations:\n",
    "- One hot encoding only in RJ\n",
    "- One hot encoding on other locations based on the region (northeast, north, etc)"
   ]
  },
  {
   "cell_type": "code",
   "execution_count": 38,
   "metadata": {},
   "outputs": [
    {
     "data": {
      "text/plain": [
       "PDT        366 (0.059%)\n",
       "PT DO B    280 (0.045%)\n",
       "PSC        275 (0.045%)\n",
       "PRB        272 (0.044%)\n",
       "PHS        266 (0.043%)\n",
       "PSL        254 (0.041%)\n",
       "PRTB       251 (0.041%)\n",
       "PRP        248 (0.040%)\n",
       "PT         229 (0.037%)\n",
       "PV         223 (0.036%)\n",
       "dtype: object"
      ]
     },
     "execution_count": 38,
     "metadata": {},
     "output_type": "execute_result"
    }
   ],
   "source": [
    "value_counts(df, 'sigla_partido').head(10)"
   ]
  },
  {
   "cell_type": "markdown",
   "metadata": {},
   "source": [
    "Possible Transformations:\n",
    "- Since there are many parties, we can try to group them by left or right depending on their political positions\n",
    "- We can also try to one hot encode only the top 10 and create a column for \"other parties\""
   ]
  },
  {
   "cell_type": "code",
   "execution_count": 40,
   "metadata": {},
   "outputs": [
    {
     "data": {
      "text/plain": [
       "COLIGACAO          2014 (0.594%)\n",
       "PARTIDO ISOLADO    1375 (0.406%)\n",
       "dtype: object"
      ]
     },
     "execution_count": 40,
     "metadata": {},
     "output_type": "execute_result"
    }
   ],
   "source": [
    "value_counts(df, 'tipo_agremiacao').head(10)"
   ]
  },
  {
   "cell_type": "markdown",
   "metadata": {},
   "source": [
    "Binary column.\n",
    "\n",
    "Possible Transformations:\n",
    "- Label encoding"
   ]
  },
  {
   "cell_type": "code",
   "execution_count": 44,
   "metadata": {},
   "outputs": [
    {
     "data": {
      "text/plain": [
       "count      6158.00\n",
       "mean    1042301.26\n",
       "std     1584612.04\n",
       "min          -1.00\n",
       "25%           0.00\n",
       "50%       80000.00\n",
       "75%     1500000.00\n",
       "max     9000000.00\n",
       "Name: despesa_maxima_campanha, dtype: float64"
      ]
     },
     "execution_count": 44,
     "metadata": {},
     "output_type": "execute_result"
    }
   ],
   "source": [
    "df['despesa_maxima_campanha'].describe()"
   ]
  },
  {
   "cell_type": "code",
   "execution_count": 47,
   "metadata": {},
   "outputs": [
    {
     "data": {
      "text/plain": [
       "0.00          2339 (0.380%)\n",
       "-1.00          680 (0.110%)\n",
       "2000000.00     473 (0.077%)\n",
       "3000000.00     348 (0.057%)\n",
       "500000.00      290 (0.047%)\n",
       "1000000.00     285 (0.046%)\n",
       "1500000.00     259 (0.042%)\n",
       "5000000.00     198 (0.032%)\n",
       "6000000.00     156 (0.025%)\n",
       "800000.00      125 (0.020%)\n",
       "dtype: object"
      ]
     },
     "execution_count": 47,
     "metadata": {},
     "output_type": "execute_result"
    }
   ],
   "source": [
    "value_counts(df, 'despesa_maxima_campanha').head(10)"
   ]
  },
  {
   "cell_type": "markdown",
   "metadata": {},
   "source": [
    "Wonder that this -1 mean... Maybe people who didn't want to declare this value."
   ]
  },
  {
   "cell_type": "markdown",
   "metadata": {},
   "source": [
    "Possible Transformations:\n",
    "- None. Use its raw value."
   ]
  },
  {
   "cell_type": "code",
   "execution_count": 49,
   "metadata": {},
   "outputs": [
    {
     "data": {
      "text/plain": [
       "count   3389.00\n",
       "mean      49.05\n",
       "std       11.29\n",
       "min       20.00\n",
       "25%       41.00\n",
       "50%       49.00\n",
       "75%       57.00\n",
       "max       86.00\n",
       "Name: idade_data_posse, dtype: float64"
      ]
     },
     "execution_count": 49,
     "metadata": {},
     "output_type": "execute_result"
    }
   ],
   "source": [
    "df['idade_data_posse'].describe()"
   ]
  },
  {
   "cell_type": "markdown",
   "metadata": {},
   "source": [
    "Possible Transformations:\n",
    "- None. Use its raw value."
   ]
  },
  {
   "cell_type": "code",
   "execution_count": 51,
   "metadata": {},
   "outputs": [
    {
     "data": {
      "text/plain": [
       "BRANCA      1810 (0.534%)\n",
       "PARDA       1103 (0.325%)\n",
       "PRETA        468 (0.138%)\n",
       "AMARELA        5 (0.001%)\n",
       "INDIGENA       3 (0.001%)\n",
       "dtype: object"
      ]
     },
     "execution_count": 51,
     "metadata": {},
     "output_type": "execute_result"
    }
   ],
   "source": [
    "value_counts(df, 'descricao_cor_raca')"
   ]
  },
  {
   "cell_type": "markdown",
   "metadata": {},
   "source": [
    "Possible Transformations:\n",
    "- One hot encode"
   ]
  },
  {
   "cell_type": "code",
   "execution_count": 52,
   "metadata": {},
   "outputs": [
    {
     "data": {
      "text/plain": [
       "CASADO(A)                    3495 (0.568%)\n",
       "SOLTEIRO(A)                  1609 (0.261%)\n",
       "DIVORCIADO(A)                 713 (0.116%)\n",
       "SEPARADO(A) JUDICIALMENTE     163 (0.026%)\n",
       "VIUVO(A)                      157 (0.025%)\n",
       "NAO INFORMADO                  21 (0.003%)\n",
       "dtype: object"
      ]
     },
     "execution_count": 52,
     "metadata": {},
     "output_type": "execute_result"
    }
   ],
   "source": [
    "value_counts(df, 'descricao_estado_civil')"
   ]
  },
  {
   "cell_type": "markdown",
   "metadata": {},
   "source": [
    "Possible Transformations:\n",
    "- One hot encode"
   ]
  },
  {
   "cell_type": "code",
   "execution_count": 53,
   "metadata": {},
   "outputs": [
    {
     "data": {
      "text/plain": [
       "MASCULINO        4573 (0.743%)\n",
       "FEMININO         1580 (0.257%)\n",
       "NAO INFORMADO       5 (0.001%)\n",
       "dtype: object"
      ]
     },
     "execution_count": 53,
     "metadata": {},
     "output_type": "execute_result"
    }
   ],
   "source": [
    "value_counts(df, 'descricao_genero')"
   ]
  },
  {
   "cell_type": "markdown",
   "metadata": {},
   "source": [
    "Possible Transformations:\n",
    "- Label encoding"
   ]
  },
  {
   "cell_type": "code",
   "execution_count": 54,
   "metadata": {},
   "outputs": [
    {
     "data": {
      "text/plain": [
       "SUPERIOR COMPLETO                2926 (0.475%)\n",
       "ENSINO MEDIO COMPLETO            1557 (0.253%)\n",
       "SUPERIOR INCOMPLETO               684 (0.111%)\n",
       "ENSINO FUNDAMENTAL COMPLETO       335 (0.054%)\n",
       "ENSINO MEDIO INCOMPLETO           160 (0.026%)\n",
       "ENSINO FUNDAMENTAL INCOMPLETO     122 (0.020%)\n",
       "MEDIO COMPLETO                    113 (0.018%)\n",
       "2O GRAU COMPLETO                   69 (0.011%)\n",
       "FUNDAMENTAL COMPLETO               44 (0.007%)\n",
       "MEDIO INCOMPLETO                   25 (0.004%)\n",
       "1O GRAU COMPLETO                   24 (0.004%)\n",
       "LE E ESCREVE                       24 (0.004%)\n",
       "2O GRAU INCOMPLETO                 22 (0.004%)\n",
       "NAO INFORMADO                      21 (0.003%)\n",
       "FUNDAMENTAL INCOMPLETO             16 (0.003%)\n",
       "1O GRAU INCOMPLETO                 15 (0.002%)\n",
       "ANALFABETO                          1 (0.000%)\n",
       "dtype: object"
      ]
     },
     "execution_count": 54,
     "metadata": {},
     "output_type": "execute_result"
    }
   ],
   "source": [
    "value_counts(df, 'descricao_grau_instrucao')"
   ]
  },
  {
   "cell_type": "markdown",
   "metadata": {},
   "source": [
    "Possible Transformations:\n",
    "- One hot encode"
   ]
  },
  {
   "cell_type": "code",
   "execution_count": 56,
   "metadata": {},
   "outputs": [
    {
     "data": {
      "text/plain": [
       "OUTROS                                               1064 (0.173%)\n",
       "ADVOGADO                                              529 (0.086%)\n",
       "EMPRESARIO                                            463 (0.075%)\n",
       "COMERCIANTE                                           287 (0.047%)\n",
       "MEDICO                                                181 (0.029%)\n",
       "                                                         ...      \n",
       "ENCANADOR, SOLDADOR, CHAPEADOR E CALDEIREIRO            1 (0.000%)\n",
       "ASTRONOMO                                               1 (0.000%)\n",
       "ARTESAO                                                 1 (0.000%)\n",
       "OPERADOR DE APARELHOS DE PRODUCAO INDUSTRIAL            1 (0.000%)\n",
       "TRABALHADOR EM ATIVIDADE DE PROCESSAMENTO QUIMICO       1 (0.000%)\n",
       "Length: 207, dtype: object"
      ]
     },
     "execution_count": 56,
     "metadata": {},
     "output_type": "execute_result"
    }
   ],
   "source": [
    "value_counts(df, 'descricao_ocupacao')"
   ]
  },
  {
   "cell_type": "code",
   "execution_count": 58,
   "metadata": {},
   "outputs": [
    {
     "data": {
      "text/plain": [
       "OUTROS                                               1064 (0.173%)\n",
       "ADVOGADO                                              529 (0.086%)\n",
       "EMPRESARIO                                            463 (0.075%)\n",
       "COMERCIANTE                                           287 (0.047%)\n",
       "MEDICO                                                181 (0.029%)\n",
       "                                                         ...      \n",
       "ENCANADOR, SOLDADOR, CHAPEADOR E CALDEIREIRO            1 (0.000%)\n",
       "ASTRONOMO                                               1 (0.000%)\n",
       "ARTESAO                                                 1 (0.000%)\n",
       "OPERADOR DE APARELHOS DE PRODUCAO INDUSTRIAL            1 (0.000%)\n",
       "TRABALHADOR EM ATIVIDADE DE PROCESSAMENTO QUIMICO       1 (0.000%)\n",
       "Length: 207, dtype: object"
      ]
     },
     "execution_count": 58,
     "metadata": {},
     "output_type": "execute_result"
    }
   ],
   "source": [
    "value_counts(df, 'descricao_ocupacao')"
   ]
  },
  {
   "cell_type": "markdown",
   "metadata": {},
   "source": [
    "Possible Transformations:\n",
    "- Maybe use NLP"
   ]
  },
  {
   "cell_type": "code",
   "execution_count": 59,
   "metadata": {},
   "outputs": [
    {
     "data": {
      "text/plain": [
       "N    3294 (0.972%)\n",
       "S      95 (0.028%)\n",
       "dtype: object"
      ]
     },
     "execution_count": 59,
     "metadata": {},
     "output_type": "execute_result"
    }
   ],
   "source": [
    "value_counts(df, 'concorre_reeleicao')"
   ]
  },
  {
   "cell_type": "markdown",
   "metadata": {},
   "source": [
    "Possible Transformations:\n",
    "- Label encoding"
   ]
  },
  {
   "cell_type": "code",
   "execution_count": 60,
   "metadata": {},
   "outputs": [
    {
     "data": {
      "text/plain": [
       "N    1746 (0.515%)\n",
       "S    1643 (0.485%)\n",
       "dtype: object"
      ]
     },
     "execution_count": 60,
     "metadata": {},
     "output_type": "execute_result"
    }
   ],
   "source": [
    "value_counts(df, 'declara_bens')"
   ]
  },
  {
   "cell_type": "markdown",
   "metadata": {},
   "source": [
    "Possible Transformations:\n",
    "- Label encoding"
   ]
  },
  {
   "cell_type": "code",
   "execution_count": 70,
   "metadata": {},
   "outputs": [
    {
     "data": {
      "text/plain": [
       "SUPLENTE                                          4243 (0.738%)\n",
       "NAO ELEITO                                        1062 (0.185%)\n",
       "ELEITO                                             162 (0.028%)\n",
       "ELEITO POR QP                                      115 (0.020%)\n",
       "REGISTRO NEGADO ANTES DA ELEICAO                   110 (0.019%)\n",
       "ELEITO POR MEDIA                                    28 (0.005%)\n",
       "MEDIA                                               17 (0.003%)\n",
       "RENUNCIA/FALECIMENTO/CASSACAO ANTES DA ELEICAO       8 (0.001%)\n",
       "INDEFERIDO COM RECURSO                               2 (0.000%)\n",
       "RENUNCIA/FALECIMENTO/CASSACAO APOS A ELEICAO         1 (0.000%)\n",
       "REGISTRO NEGADO APOS A ELEICAO                       1 (0.000%)\n",
       "dtype: object"
      ]
     },
     "execution_count": 70,
     "metadata": {},
     "output_type": "execute_result"
    }
   ],
   "source": [
    "value_counts(df, 'descricao_totalizacao_turno')"
   ]
  },
  {
   "cell_type": "markdown",
   "metadata": {},
   "source": [
    "LABEL! "
   ]
  },
  {
   "cell_type": "markdown",
   "metadata": {},
   "source": [
    "Possible Transformations:\n",
    "- Group these by Elected or Not and do label encoding"
   ]
  },
  {
   "cell_type": "code",
   "execution_count": null,
   "metadata": {},
   "outputs": [],
   "source": []
  },
  {
   "cell_type": "code",
   "execution_count": 27,
   "metadata": {},
   "outputs": [
    {
     "data": {
      "text/plain": [
       "Index(['ano_eleicao', 'nome', 'nome_urna', 'numero_sequencial', 'numero_urna',\n",
       "       'sigla_uf_nascimento', 'sigla_partido', 'numero_partido',\n",
       "       'tipo_agremiacao', 'descricao_cargo', 'despesa_maxima_campanha',\n",
       "       'idade_data_posse', 'descricao_cor_raca', 'descricao_estado_civil',\n",
       "       'descricao_genero', 'descricao_grau_instrucao',\n",
       "       'descricao_nacionalidade', 'descricao_ocupacao', 'concorre_reeleicao',\n",
       "       'declara_bens', 'descricao_totalizacao_turno'],\n",
       "      dtype='object')"
      ]
     },
     "execution_count": 27,
     "metadata": {},
     "output_type": "execute_result"
    }
   ],
   "source": [
    "df.columns"
   ]
  },
  {
   "cell_type": "code",
   "execution_count": null,
   "metadata": {},
   "outputs": [],
   "source": []
  }
 ],
 "metadata": {
  "kernelspec": {
   "display_name": "Python 3",
   "language": "python",
   "name": "python3"
  },
  "language_info": {
   "codemirror_mode": {
    "name": "ipython",
    "version": 3
   },
   "file_extension": ".py",
   "mimetype": "text/x-python",
   "name": "python",
   "nbconvert_exporter": "python",
   "pygments_lexer": "ipython3",
   "version": "3.7.6"
  }
 },
 "nbformat": 4,
 "nbformat_minor": 4
}
